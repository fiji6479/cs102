{
  "nbformat": 4,
  "nbformat_minor": 0,
  "metadata": {
    "colab": {
      "name": "practica.ipynb",
      "provenance": [],
      "toc_visible": true,
      "authorship_tag": "ABX9TyPai+1CHMCtPkOOy16l92gT",
      "include_colab_link": true
    },
    "kernelspec": {
      "name": "python3",
      "display_name": "Python 3"
    },
    "language_info": {
      "name": "python"
    }
  },
  "cells": [
    {
      "cell_type": "markdown",
      "metadata": {
        "id": "view-in-github",
        "colab_type": "text"
      },
      "source": [
        "<a href=\"https://colab.research.google.com/github/fiji6479/cs102/blob/master/practica.ipynb\" target=\"_parent\"><img src=\"https://colab.research.google.com/assets/colab-badge.svg\" alt=\"Open In Colab\"/></a>"
      ]
    },
    {
      "cell_type": "markdown",
      "metadata": {
        "id": "FF-j8PgnI1vQ"
      },
      "source": [
        "**Библиотека Numpy (Операции с матрицами)**\n"
      ]
    },
    {
      "cell_type": "code",
      "metadata": {
        "colab": {
          "base_uri": "https://localhost:8080/"
        },
        "id": "Kn3ZBH_bKTY8",
        "outputId": "084acfab-5590-47bd-f07c-a2f262c9d4dc"
      },
      "source": [
        "!pip install numpy"
      ],
      "execution_count": 5,
      "outputs": [
        {
          "output_type": "stream",
          "text": [
            "Requirement already satisfied: numpy in /usr/local/lib/python3.7/dist-packages (1.19.5)\n"
          ],
          "name": "stdout"
        }
      ]
    },
    {
      "cell_type": "code",
      "metadata": {
        "id": "dd0T9yG0IDAA"
      },
      "source": [
        "import numpy as np"
      ],
      "execution_count": 6,
      "outputs": []
    },
    {
      "cell_type": "code",
      "metadata": {
        "id": "sfmMS3BMJojy"
      },
      "source": [
        "matrix1 = np.array([[4, 9, 8],\n",
        "                   [2, 6, 3]])\n",
        "matrix2 = np.array([[1, 5, 2],\n",
        "                   [6, 6, 0],\n",
        "                   [4, 8, 3]])"
      ],
      "execution_count": 9,
      "outputs": []
    },
    {
      "cell_type": "code",
      "metadata": {
        "colab": {
          "base_uri": "https://localhost:8080/"
        },
        "id": "EwGFhbeWKjjM",
        "outputId": "a2c9c3ef-d3d7-409e-c10f-05f8644a66dc"
      },
      "source": [
        "exp_mat1 = np.exp(matrix1)\n",
        "print(exp_mat1)"
      ],
      "execution_count": 10,
      "outputs": [
        {
          "output_type": "stream",
          "text": [
            "[[5.45981500e+01 8.10308393e+03 2.98095799e+03]\n",
            " [7.38905610e+00 4.03428793e+02 2.00855369e+01]]\n"
          ],
          "name": "stdout"
        }
      ]
    },
    {
      "cell_type": "code",
      "metadata": {
        "colab": {
          "base_uri": "https://localhost:8080/"
        },
        "id": "Peo6JTGxKpcp",
        "outputId": "5b18d831-a655-419e-e1de-ae13d9bd6dac"
      },
      "source": [
        "sum_mat12 = matrix1 + matrix2 [[0,1]]\n",
        "print(sum_mat12)"
      ],
      "execution_count": 11,
      "outputs": [
        {
          "output_type": "stream",
          "text": [
            "[[ 5 14 10]\n",
            " [ 8 12  3]]\n"
          ],
          "name": "stdout"
        }
      ]
    },
    {
      "cell_type": "code",
      "metadata": {
        "colab": {
          "base_uri": "https://localhost:8080/"
        },
        "id": "DT7uegyRKvdJ",
        "outputId": "53df8b46-c9b8-4da4-cd74-956f5ee5d132"
      },
      "source": [
        "transp_mat1 = matrix1.transpose()\n",
        "print(transp_mat1)"
      ],
      "execution_count": 12,
      "outputs": [
        {
          "output_type": "stream",
          "text": [
            "[[4 2]\n",
            " [9 6]\n",
            " [8 3]]\n"
          ],
          "name": "stdout"
        }
      ]
    },
    {
      "cell_type": "code",
      "metadata": {
        "colab": {
          "base_uri": "https://localhost:8080/"
        },
        "id": "xHWs9bb6Kx92",
        "outputId": "758e83eb-2ec9-43a6-f947-22feda4b3c37"
      },
      "source": [
        "prod_mat12 = matrix1.transpose()\n",
        "print(prod_mat12)"
      ],
      "execution_count": 14,
      "outputs": [
        {
          "output_type": "stream",
          "text": [
            "[[4 2]\n",
            " [9 6]\n",
            " [8 3]]\n"
          ],
          "name": "stdout"
        }
      ]
    },
    {
      "cell_type": "code",
      "metadata": {
        "colab": {
          "base_uri": "https://localhost:8080/"
        },
        "id": "NDY-J78nK91d",
        "outputId": "cedc2163-0570-4bce-bab8-8f7ec9383657"
      },
      "source": [
        "prod_mat12 = matrix1 @ matrix2\n",
        "print(prod_mat12)"
      ],
      "execution_count": 15,
      "outputs": [
        {
          "output_type": "stream",
          "text": [
            "[[ 90 138  32]\n",
            " [ 50  70  13]]\n"
          ],
          "name": "stdout"
        }
      ]
    },
    {
      "cell_type": "markdown",
      "metadata": {
        "id": "Y_TQumKuLT0o"
      },
      "source": [
        "**Библиотека Pandas (Преобразование данных)**\n"
      ]
    },
    {
      "cell_type": "code",
      "metadata": {
        "id": "f3ljxTP9LjoN"
      },
      "source": [
        "import pandas as pd"
      ],
      "execution_count": 17,
      "outputs": []
    },
    {
      "cell_type": "code",
      "metadata": {
        "colab": {
          "base_uri": "https://localhost:8080/"
        },
        "id": "hl6bQ6wFLyuz",
        "outputId": "ec433e27-60a2-442e-c603-6f160def5794"
      },
      "source": [
        "sales_hours = np.array([30, 40, 35, 130, 120, 60])\n",
        "weather_code = np.array([0, 1, 0, 1, 1, 0])\n",
        "icecreams_sold = np.array([2000, 2100, 1500, 8000, 7200, 2000])\n",
        "df = pd.DataFrame({'Человеко-часы': sales_hours, 'Теплый день': weather_code, 'Продажи': icecreams_sold})\n",
        "date_index = pd.date_range(start='07/01/2020', periods=6)\n",
        "df.set_index(date_index, inplace=True)\n",
        "print(df)\n"
      ],
      "execution_count": 18,
      "outputs": [
        {
          "output_type": "stream",
          "text": [
            "            Человеко-часы  Теплый день  Продажи\n",
            "2020-07-01             30            0     2000\n",
            "2020-07-02             40            1     2100\n",
            "2020-07-03             35            0     1500\n",
            "2020-07-04            130            1     8000\n",
            "2020-07-05            120            1     7200\n",
            "2020-07-06             60            0     2000\n"
          ],
          "name": "stdout"
        }
      ]
    },
    {
      "cell_type": "code",
      "metadata": {
        "colab": {
          "base_uri": "https://localhost:8080/"
        },
        "id": "xC859f3DL0bQ",
        "outputId": "a005406d-c221-4bfd-a834-b7d913391b66"
      },
      "source": [
        "subset1 = df[['Человеко-часы', 'Продажи']] #срез таблицы\n",
        "print(subset1)"
      ],
      "execution_count": 19,
      "outputs": [
        {
          "output_type": "stream",
          "text": [
            "            Человеко-часы  Продажи\n",
            "2020-07-01             30     2000\n",
            "2020-07-02             40     2100\n",
            "2020-07-03             35     1500\n",
            "2020-07-04            130     8000\n",
            "2020-07-05            120     7200\n",
            "2020-07-06             60     2000\n"
          ],
          "name": "stdout"
        }
      ]
    },
    {
      "cell_type": "code",
      "metadata": {
        "colab": {
          "base_uri": "https://localhost:8080/"
        },
        "id": "ez2WBBjNL3E2",
        "outputId": "b9a409b5-3610-402e-8c99-3e17b3c22895"
      },
      "source": [
        "subset2 = df[1:4]\n",
        "print(subset2)"
      ],
      "execution_count": 21,
      "outputs": [
        {
          "output_type": "stream",
          "text": [
            "            Человеко-часы  Теплый день  Продажи\n",
            "2020-07-02             40            1     2100\n",
            "2020-07-03             35            0     1500\n",
            "2020-07-04            130            1     8000\n"
          ],
          "name": "stdout"
        }
      ]
    },
    {
      "cell_type": "code",
      "metadata": {
        "colab": {
          "base_uri": "https://localhost:8080/"
        },
        "id": "pT-3EtVUL-4l",
        "outputId": "acb75642-49ff-4a86-f008-e988d3af53d3"
      },
      "source": [
        "df['Погода'] = pd.Categorical.from_codes(codes=df['Теплый день'], categories=['Холодная','Теплая'])\n",
        "print(df)"
      ],
      "execution_count": 22,
      "outputs": [
        {
          "output_type": "stream",
          "text": [
            "            Человеко-часы  Теплый день  Продажи    Погода\n",
            "2020-07-01             30            0     2000  Холодная\n",
            "2020-07-02             40            1     2100    Теплая\n",
            "2020-07-03             35            0     1500  Холодная\n",
            "2020-07-04            130            1     8000    Теплая\n",
            "2020-07-05            120            1     7200    Теплая\n",
            "2020-07-06             60            0     2000  Холодная\n"
          ],
          "name": "stdout"
        }
      ]
    },
    {
      "cell_type": "code",
      "metadata": {
        "colab": {
          "base_uri": "https://localhost:8080/"
        },
        "id": "s9OXztfdMCZz",
        "outputId": "fc065568-597c-4248-9160-8a468a4a3b4b"
      },
      "source": [
        "group_means = df.groupby(df['Погода']).mean()\n",
        "print(group_means)"
      ],
      "execution_count": 23,
      "outputs": [
        {
          "output_type": "stream",
          "text": [
            "          Человеко-часы  Теплый день      Продажи\n",
            "Погода                                           \n",
            "Холодная      41.666667          0.0  1833.333333\n",
            "Теплая        96.666667          1.0  5766.666667\n"
          ],
          "name": "stdout"
        }
      ]
    },
    {
      "cell_type": "markdown",
      "metadata": {
        "id": "CxUOW7I6MIjh"
      },
      "source": [
        "**Экспорт и импорт в Pandas**"
      ]
    },
    {
      "cell_type": "code",
      "metadata": {
        "colab": {
          "base_uri": "https://localhost:8080/"
        },
        "id": "ldwpfh7KMMWD",
        "outputId": "98741bbc-06ef-4a98-ab96-15563ceda4a9"
      },
      "source": [
        "!pip install wooldridge"
      ],
      "execution_count": 41,
      "outputs": [
        {
          "output_type": "stream",
          "text": [
            "Requirement already satisfied: wooldridge in /usr/local/lib/python3.7/dist-packages (0.4.3)\n",
            "Requirement already satisfied: pandas in /usr/local/lib/python3.7/dist-packages (from wooldridge) (1.1.5)\n",
            "Requirement already satisfied: numpy>=1.15.4 in /usr/local/lib/python3.7/dist-packages (from pandas->wooldridge) (1.19.5)\n",
            "Requirement already satisfied: python-dateutil>=2.7.3 in /usr/local/lib/python3.7/dist-packages (from pandas->wooldridge) (2.8.1)\n",
            "Requirement already satisfied: pytz>=2017.2 in /usr/local/lib/python3.7/dist-packages (from pandas->wooldridge) (2018.9)\n",
            "Requirement already satisfied: six>=1.5 in /usr/local/lib/python3.7/dist-packages (from python-dateutil>=2.7.3->pandas->wooldridge) (1.15.0)\n"
          ],
          "name": "stdout"
        }
      ]
    },
    {
      "cell_type": "code",
      "metadata": {
        "id": "40s654jZMZnU"
      },
      "source": [
        "import wooldridge as woo"
      ],
      "execution_count": 40,
      "outputs": []
    },
    {
      "cell_type": "code",
      "metadata": {
        "id": "E8bdg-QtMeIQ"
      },
      "source": [
        "wagel = woo.dataWoo(\"wagel\")\n",
        "wagel.head()"
      ],
      "execution_count": null,
      "outputs": []
    },
    {
      "cell_type": "code",
      "metadata": {
        "colab": {
          "resources": {
            "http://localhost:8080/nbextensions/google.colab/files.js": {
              "data": "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",
              "ok": true,
              "headers": [
                [
                  "content-type",
                  "application/javascript"
                ]
              ],
              "status": 200,
              "status_text": ""
            }
          },
          "base_uri": "https://localhost:8080/",
          "height": 72
        },
        "id": "WNH8dxccMgur",
        "outputId": "0816a95e-3d4c-4c85-d021-bed4bfbbf702"
      },
      "source": [
        "import io\n",
        "from google.colab import files\n",
        "uploaded = files.upload()"
      ],
      "execution_count": 45,
      "outputs": [
        {
          "output_type": "display_data",
          "data": {
            "text/html": [
              "\n",
              "     <input type=\"file\" id=\"files-be04cc2c-b05f-4aa0-8cf5-561235173bec\" name=\"files[]\" multiple disabled\n",
              "        style=\"border:none\" />\n",
              "     <output id=\"result-be04cc2c-b05f-4aa0-8cf5-561235173bec\">\n",
              "      Upload widget is only available when the cell has been executed in the\n",
              "      current browser session. Please rerun this cell to enable.\n",
              "      </output>\n",
              "      <script src=\"/nbextensions/google.colab/files.js\"></script> "
            ],
            "text/plain": [
              "<IPython.core.display.HTML object>"
            ]
          },
          "metadata": {
            "tags": []
          }
        },
        {
          "output_type": "stream",
          "text": [
            "Saving fund_managers.xlsx to fund_managers.xlsx\n"
          ],
          "name": "stdout"
        }
      ]
    },
    {
      "cell_type": "code",
      "metadata": {
        "id": "4eeLgGrgO_Oa"
      },
      "source": [
        "managers_xls = io.BytesIO(uploaded['fund_managers.xlsx'])"
      ],
      "execution_count": 47,
      "outputs": []
    },
    {
      "cell_type": "code",
      "metadata": {
        "colab": {
          "base_uri": "https://localhost:8080/"
        },
        "id": "eItGhyi6PBnL",
        "outputId": "8748d4e1-5ae3-473d-a0e8-342c26b108aa"
      },
      "source": [
        "data = pd.read_excel('/content/fund_managers.xlsx')\n",
        "print(data)"
      ],
      "execution_count": 48,
      "outputs": [
        {
          "output_type": "stream",
          "text": [
            "    Year  Risky Ricky  Safe Steve  Ricky Ranks  Steve Ranks\n",
            "0   2005           24           9            2            3\n",
            "1   2006           18           7            3            4\n",
            "2   2007            4           5            7            6\n",
            "3   2008          -23          -8           13           13\n",
            "4   2009          -12          -3           11           12\n",
            "5   2010            1           3            8            8\n",
            "6   2011            7           4            6            7\n",
            "7   2012           12           2            5           10\n",
            "8   2013           -6           3            9            8\n",
            "9   2014          -14           6           12            5\n",
            "10  2015           -7           2           10           10\n",
            "11  2016           56          19            1            1\n",
            "12  2017           14          12            4            2\n"
          ],
          "name": "stdout"
        }
      ]
    },
    {
      "cell_type": "code",
      "metadata": {
        "colab": {
          "base_uri": "https://localhost:8080/",
          "height": 297
        },
        "id": "36UkTcO0PEFk",
        "outputId": "6f3eb7c9-950d-4de7-d035-0614abf1e87c"
      },
      "source": [
        "data.describe()"
      ],
      "execution_count": 49,
      "outputs": [
        {
          "output_type": "execute_result",
          "data": {
            "text/html": [
              "<div>\n",
              "<style scoped>\n",
              "    .dataframe tbody tr th:only-of-type {\n",
              "        vertical-align: middle;\n",
              "    }\n",
              "\n",
              "    .dataframe tbody tr th {\n",
              "        vertical-align: top;\n",
              "    }\n",
              "\n",
              "    .dataframe thead th {\n",
              "        text-align: right;\n",
              "    }\n",
              "</style>\n",
              "<table border=\"1\" class=\"dataframe\">\n",
              "  <thead>\n",
              "    <tr style=\"text-align: right;\">\n",
              "      <th></th>\n",
              "      <th>Year</th>\n",
              "      <th>Risky Ricky</th>\n",
              "      <th>Safe Steve</th>\n",
              "      <th>Ricky Ranks</th>\n",
              "      <th>Steve Ranks</th>\n",
              "    </tr>\n",
              "  </thead>\n",
              "  <tbody>\n",
              "    <tr>\n",
              "      <th>count</th>\n",
              "      <td>13.00000</td>\n",
              "      <td>13.000000</td>\n",
              "      <td>13.000000</td>\n",
              "      <td>13.00000</td>\n",
              "      <td>13.000000</td>\n",
              "    </tr>\n",
              "    <tr>\n",
              "      <th>mean</th>\n",
              "      <td>2011.00000</td>\n",
              "      <td>5.692308</td>\n",
              "      <td>4.692308</td>\n",
              "      <td>7.00000</td>\n",
              "      <td>6.846154</td>\n",
              "    </tr>\n",
              "    <tr>\n",
              "      <th>std</th>\n",
              "      <td>3.89444</td>\n",
              "      <td>20.360847</td>\n",
              "      <td>6.612924</td>\n",
              "      <td>3.89444</td>\n",
              "      <td>3.782551</td>\n",
              "    </tr>\n",
              "    <tr>\n",
              "      <th>min</th>\n",
              "      <td>2005.00000</td>\n",
              "      <td>-23.000000</td>\n",
              "      <td>-8.000000</td>\n",
              "      <td>1.00000</td>\n",
              "      <td>1.000000</td>\n",
              "    </tr>\n",
              "    <tr>\n",
              "      <th>25%</th>\n",
              "      <td>2008.00000</td>\n",
              "      <td>-7.000000</td>\n",
              "      <td>2.000000</td>\n",
              "      <td>4.00000</td>\n",
              "      <td>4.000000</td>\n",
              "    </tr>\n",
              "    <tr>\n",
              "      <th>50%</th>\n",
              "      <td>2011.00000</td>\n",
              "      <td>4.000000</td>\n",
              "      <td>4.000000</td>\n",
              "      <td>7.00000</td>\n",
              "      <td>7.000000</td>\n",
              "    </tr>\n",
              "    <tr>\n",
              "      <th>75%</th>\n",
              "      <td>2014.00000</td>\n",
              "      <td>14.000000</td>\n",
              "      <td>7.000000</td>\n",
              "      <td>10.00000</td>\n",
              "      <td>10.000000</td>\n",
              "    </tr>\n",
              "    <tr>\n",
              "      <th>max</th>\n",
              "      <td>2017.00000</td>\n",
              "      <td>56.000000</td>\n",
              "      <td>19.000000</td>\n",
              "      <td>13.00000</td>\n",
              "      <td>13.000000</td>\n",
              "    </tr>\n",
              "  </tbody>\n",
              "</table>\n",
              "</div>"
            ],
            "text/plain": [
              "             Year  Risky Ricky  Safe Steve  Ricky Ranks  Steve Ranks\n",
              "count    13.00000    13.000000   13.000000     13.00000    13.000000\n",
              "mean   2011.00000     5.692308    4.692308      7.00000     6.846154\n",
              "std       3.89444    20.360847    6.612924      3.89444     3.782551\n",
              "min    2005.00000   -23.000000   -8.000000      1.00000     1.000000\n",
              "25%    2008.00000    -7.000000    2.000000      4.00000     4.000000\n",
              "50%    2011.00000     4.000000    4.000000      7.00000     7.000000\n",
              "75%    2014.00000    14.000000    7.000000     10.00000    10.000000\n",
              "max    2017.00000    56.000000   19.000000     13.00000    13.000000"
            ]
          },
          "metadata": {
            "tags": []
          },
          "execution_count": 49
        }
      ]
    },
    {
      "cell_type": "code",
      "metadata": {
        "colab": {
          "base_uri": "https://localhost:8080/",
          "height": 204
        },
        "id": "epwthmc6PG9G",
        "outputId": "d205d7b0-a528-4076-a0ce-5abce512b967"
      },
      "source": [
        "data.corr()"
      ],
      "execution_count": 50,
      "outputs": [
        {
          "output_type": "execute_result",
          "data": {
            "text/html": [
              "<div>\n",
              "<style scoped>\n",
              "    .dataframe tbody tr th:only-of-type {\n",
              "        vertical-align: middle;\n",
              "    }\n",
              "\n",
              "    .dataframe tbody tr th {\n",
              "        vertical-align: top;\n",
              "    }\n",
              "\n",
              "    .dataframe thead th {\n",
              "        text-align: right;\n",
              "    }\n",
              "</style>\n",
              "<table border=\"1\" class=\"dataframe\">\n",
              "  <thead>\n",
              "    <tr style=\"text-align: right;\">\n",
              "      <th></th>\n",
              "      <th>Year</th>\n",
              "      <th>Risky Ricky</th>\n",
              "      <th>Safe Steve</th>\n",
              "      <th>Ricky Ranks</th>\n",
              "      <th>Steve Ranks</th>\n",
              "    </tr>\n",
              "  </thead>\n",
              "  <tbody>\n",
              "    <tr>\n",
              "      <th>Year</th>\n",
              "      <td>1.000000</td>\n",
              "      <td>0.142928</td>\n",
              "      <td>0.385059</td>\n",
              "      <td>0.021978</td>\n",
              "      <td>-0.197996</td>\n",
              "    </tr>\n",
              "    <tr>\n",
              "      <th>Risky Ricky</th>\n",
              "      <td>0.142928</td>\n",
              "      <td>1.000000</td>\n",
              "      <td>0.870048</td>\n",
              "      <td>-0.934285</td>\n",
              "      <td>-0.766741</td>\n",
              "    </tr>\n",
              "    <tr>\n",
              "      <th>Safe Steve</th>\n",
              "      <td>0.385059</td>\n",
              "      <td>0.870048</td>\n",
              "      <td>1.000000</td>\n",
              "      <td>-0.796004</td>\n",
              "      <td>-0.944866</td>\n",
              "    </tr>\n",
              "    <tr>\n",
              "      <th>Ricky Ranks</th>\n",
              "      <td>0.021978</td>\n",
              "      <td>-0.934285</td>\n",
              "      <td>-0.796004</td>\n",
              "      <td>1.000000</td>\n",
              "      <td>0.763700</td>\n",
              "    </tr>\n",
              "    <tr>\n",
              "      <th>Steve Ranks</th>\n",
              "      <td>-0.197996</td>\n",
              "      <td>-0.766741</td>\n",
              "      <td>-0.944866</td>\n",
              "      <td>0.763700</td>\n",
              "      <td>1.000000</td>\n",
              "    </tr>\n",
              "  </tbody>\n",
              "</table>\n",
              "</div>"
            ],
            "text/plain": [
              "                 Year  Risky Ricky  Safe Steve  Ricky Ranks  Steve Ranks\n",
              "Year         1.000000     0.142928    0.385059     0.021978    -0.197996\n",
              "Risky Ricky  0.142928     1.000000    0.870048    -0.934285    -0.766741\n",
              "Safe Steve   0.385059     0.870048    1.000000    -0.796004    -0.944866\n",
              "Ricky Ranks  0.021978    -0.934285   -0.796004     1.000000     0.763700\n",
              "Steve Ranks -0.197996    -0.766741   -0.944866     0.763700     1.000000"
            ]
          },
          "metadata": {
            "tags": []
          },
          "execution_count": 50
        }
      ]
    },
    {
      "cell_type": "code",
      "metadata": {
        "id": "tz4pkJKBPJCJ"
      },
      "source": [
        "import pandas_datareader as pdr"
      ],
      "execution_count": 51,
      "outputs": []
    },
    {
      "cell_type": "code",
      "metadata": {
        "colab": {
          "base_uri": "https://localhost:8080/"
        },
        "id": "tMQVSooiPLe3",
        "outputId": "6e7c2e36-c0e9-4fd4-aaf3-39b5d7a2c5e6"
      },
      "source": [
        "tickers = ['AAPL']\n",
        "start_date = '2019-01-01'\n",
        "end_date = '2021-04-30'\n",
        "A_data = pdr.data.DataReader(tickers, 'yahoo', start_date, end_date)\n",
        "print(A_data.head(), '\\n')\n",
        "print(A_data.tail())"
      ],
      "execution_count": 52,
      "outputs": [
        {
          "output_type": "stream",
          "text": [
            "Attributes  Adj Close      Close       High        Low       Open       Volume\n",
            "Symbols          AAPL       AAPL       AAPL       AAPL       AAPL         AAPL\n",
            "Date                                                                          \n",
            "2019-01-02  38.439735  39.480000  39.712502  38.557499  38.722500  148158800.0\n",
            "2019-01-03  34.610851  35.547501  36.430000  35.500000  35.994999  365248800.0\n",
            "2019-01-04  36.088364  37.064999  37.137501  35.950001  36.132500  234428400.0\n",
            "2019-01-07  36.008041  36.982498  37.207500  36.474998  37.174999  219111200.0\n",
            "2019-01-08  36.694466  37.687500  37.955002  37.130001  37.389999  164101200.0 \n",
            "\n",
            "Attributes   Adj Close       Close  ...        Open       Volume\n",
            "Symbols           AAPL        AAPL  ...        AAPL         AAPL\n",
            "Date                                ...                         \n",
            "2021-04-26  134.491562  134.720001  ...  134.830002   66905100.0\n",
            "2021-04-27  134.162109  134.389999  ...  135.009995   66015800.0\n",
            "2021-04-28  133.353485  133.580002  ...  134.309998  107760100.0\n",
            "2021-04-29  133.253662  133.479996  ...  136.470001  151101000.0\n",
            "2021-04-30  131.237091  131.460007  ...  131.779999  109713200.0\n",
            "\n",
            "[5 rows x 6 columns]\n"
          ],
          "name": "stdout"
        }
      ]
    },
    {
      "cell_type": "markdown",
      "metadata": {
        "id": "a1ma7hxKPNMt"
      },
      "source": [
        "**Библиотека Matplotlib(построение графиков)**"
      ]
    },
    {
      "cell_type": "code",
      "metadata": {
        "id": "9a1JLKFTPcn7"
      },
      "source": [
        "import matplotlib.pyplot as plt"
      ],
      "execution_count": 53,
      "outputs": []
    },
    {
      "cell_type": "code",
      "metadata": {
        "colab": {
          "base_uri": "https://localhost:8080/",
          "height": 265
        },
        "id": "2zpQZ9MBPfbq",
        "outputId": "8d19e593-0b6f-4d21-ae61-2ee449f82897"
      },
      "source": [
        "x = [1, 3, 4, 7, 8, 9]\n",
        "y = [0, 3, 6, 9, 7, 8]\n",
        "plt.plot(x, y, color = 'gray', marker = '*', linestyle='-.')\n",
        "plt.savefig('graph1.png')\n",
        "plt.show()"
      ],
      "execution_count": 54,
      "outputs": [
        {
          "output_type": "display_data",
          "data": {
            "image/png": "[encoded data removed]",
            "text/plain": [
              "<Figure size 432x288 with 1 Axes>"
            ]
          },
          "metadata": {
            "tags": [],
            "needs_background": "light"
          }
        }
      ]
    },
    {
      "cell_type": "code",
      "metadata": {
        "colab": {
          "base_uri": "https://localhost:8080/",
          "height": 265
        },
        "id": "AAvI7RITPi-C",
        "outputId": "4d99d450-7895-490f-ca5a-ed6531bf8d56"
      },
      "source": [
        "x1 = np.linspace(-3, 2, num=100)\n",
        "y1 = x1**3\n",
        "plt.plot(x1, y1, color = 'red', marker = '', linestyle='-')\n",
        "plt.show()"
      ],
      "execution_count": 60,
      "outputs": [
        {
          "output_type": "display_data",
          "data": {
            "image/png": "[encoded data removed]",
            "text/plain": [
              "<Figure size 432x288 with 1 Axes>"
            ]
          },
          "metadata": {
            "tags": [],
            "needs_background": "light"
          }
        }
      ]
    },
    {
      "cell_type": "code",
      "metadata": {
        "id": "N_o6HMg-Pky2"
      },
      "source": [
        "import scipy.stats as stats"
      ],
      "execution_count": 56,
      "outputs": []
    },
    {
      "cell_type": "code",
      "metadata": {
        "colab": {
          "base_uri": "https://localhost:8080/",
          "height": 312
        },
        "id": "PCURV9JOPmb0",
        "outputId": "0784931d-79a1-4da3-bc90-6cd3e50b0837"
      },
      "source": [
        "import scipy.stats as stats\n",
        "x3 = np.linspace(-3, 5, num = 100)\n",
        "y3 = stats.norm.pdf(x2)\n",
        "y4 = stats.norm.pdf(x2, 3, 0.5)\n",
        "y5 = stats.norm.pdf(x2, 0, 3)\n",
        "plt.plot(x2, y3, color = 'black')\n",
        "plt.plot(x2, y5, color = '.6', linestyle='--')\n",
        "plt.title('Нормальное распределение')\n",
        "plt.xlabel('x')\n",
        "plt.ylabel('$\\phi (x)$')\n",
        "plt.show"
      ],
      "execution_count": 78,
      "outputs": [
        {
          "output_type": "execute_result",
          "data": {
            "text/plain": [
              "<function matplotlib.pyplot.show>"
            ]
          },
          "metadata": {
            "tags": []
          },
          "execution_count": 78
        },
        {
          "output_type": "display_data",
          "data": {
            "image/png": "[encoded data removed]",
            "text/plain": [
              "<Figure size 432x288 with 1 Axes>"
            ]
          },
          "metadata": {
            "tags": [],
            "needs_background": "light"
          }
        }
      ]
    }
  ]
}